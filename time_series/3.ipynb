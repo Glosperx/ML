{
 "cells": [
  {
   "cell_type": "code",
   "execution_count": 2,
   "id": "9b101115",
   "metadata": {},
   "outputs": [],
   "source": [
    "import pandas as pd\n",
    "import numpy as np\n",
    "import tensorflow as tf\n",
    "from tensorflow.keras.models import Sequential\n",
    "from tensorflow.keras.layers import Conv1D, LSTM, Dense, Dropout, Lambda, Reshape, BatchNormalization\n",
    "from tensorflow.keras.optimizers import Adam\n",
    "from tensorflow.keras.callbacks import EarlyStopping, ModelCheckpoint, ReduceLROnPlateau\n",
    "from sklearn.preprocessing import MinMaxScaler, StandardScaler\n",
    "from sklearn.metrics import mean_squared_error, mean_absolute_error\n",
    "import matplotlib.pyplot as plt\n",
    "import warnings\n",
    "warnings.filterwarnings('ignore')"
   ]
  },
  {
   "cell_type": "code",
   "execution_count": null,
   "id": "c11163d8",
   "metadata": {},
   "outputs": [],
   "source": [
    "def load_and_preprocess_data(file_path):\n",
    "    \"\"\"\n",
    "    Încarcă datele din CSV și procesează reset-urile la step 100\n",
    "    \"\"\"\n",
    "    # Citește toate datele\n",
    "    df = pd.read_csv(file_path, sep='\\s+', comment='#', \n",
    "                     names=['Step', 'T_K', 'E_KS_eV', 'E_tot_eV', 'Vol_A3', 'P_kBar'])\n",
    "    \n",
    "    print(f\"Total raw data points: {len(df)}\")\n",
    "\n",
    "    # Resetează indexul la fiecare 100 de pași\n",
    "    df = df[df['Step'] % 100 == 0].reset_index(drop=True)\n",
    "\n",
    "    print(f\"Total processed data points: {len(df)}\")\n",
    "\n",
    "    return df\n",
    "    \n",
    "    # Extrage doar E_KS pentru predicție\n",
    "    energy_data = df['E_KS_eV'].values\n",
    "    \n",
    "    # Normalizare - Standard Scaler poate fi mai bun pentru energie\n",
    "    scaler = StandardScaler()\n",
    "    energy_scaled = scaler.fit_transform(energy_data.reshape(-1, 1)).flatten()\n",
    "    \n",
    "    return energy_scaled, scaler, df"
   ]
  }
 ],
 "metadata": {
  "kernelspec": {
   "display_name": "tf216",
   "language": "python",
   "name": "python3"
  },
  "language_info": {
   "codemirror_mode": {
    "name": "ipython",
    "version": 3
   },
   "file_extension": ".py",
   "mimetype": "text/x-python",
   "name": "python",
   "nbconvert_exporter": "python",
   "pygments_lexer": "ipython3",
   "version": "3.11.10"
  }
 },
 "nbformat": 4,
 "nbformat_minor": 5
}
