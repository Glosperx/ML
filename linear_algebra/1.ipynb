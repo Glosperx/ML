{
 "cells": [
  {
   "cell_type": "code",
   "execution_count": 1,
   "id": "5d761859",
   "metadata": {},
   "outputs": [],
   "source": [
    "import numpy as np\n",
    "import matplotlib.pyplot as plt"
   ]
  },
  {
   "cell_type": "code",
   "execution_count": 3,
   "id": "4eb48da6",
   "metadata": {},
   "outputs": [
    {
     "name": "stdout",
     "output_type": "stream",
     "text": [
      "1.1343\n",
      "-5\n"
     ]
    }
   ],
   "source": [
    "x = 1.1343\n",
    "print(x)\n",
    "z = int(-5)\n",
    "print(z)"
   ]
  },
  {
   "cell_type": "code",
   "execution_count": 16,
   "id": "ef8b1702",
   "metadata": {},
   "outputs": [
    {
     "name": "stdout",
     "output_type": "stream",
     "text": [
      "[[1.]\n",
      " [1.]\n",
      " [1.]\n",
      " [1.]\n",
      " [1.]]\n",
      "[[1. 1. 1. 1. 1.]]\n"
     ]
    }
   ],
   "source": [
    "x = np.array([1.1343, 6.2345, 35.2])\n",
    "# print(x)\n",
    "\n",
    "z=np.ones((5,1))\n",
    "z_t=z.T\n",
    "print(z)\n",
    "print(z_t)"
   ]
  }
 ],
 "metadata": {
  "kernelspec": {
   "display_name": "ML-v01",
   "language": "python",
   "name": "python3"
  },
  "language_info": {
   "codemirror_mode": {
    "name": "ipython",
    "version": 3
   },
   "file_extension": ".py",
   "mimetype": "text/x-python",
   "name": "python",
   "nbconvert_exporter": "python",
   "pygments_lexer": "ipython3",
   "version": "3.9.19"
  }
 },
 "nbformat": 4,
 "nbformat_minor": 5
}
